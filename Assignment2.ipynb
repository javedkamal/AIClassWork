{
 "cells": [
  {
   "cell_type": "markdown",
   "metadata": {},
   "source": [
    "<h3>Q no 1:  Write a python program to find number of occurrences of given number in a list with out using built-in methods</h3>\n",
    "<h4>**1 generate a list of some random num which is repeated again and again</h4>\n",
    "<h4>**2 take user input any number</h4>\n",
    "<h4>**3 find the number of occurrences of that num in your list</h4>\n",
    "<h4>**4 print some message to user with that result</h4>"
   ]
  },
  {
   "cell_type": "code",
   "execution_count": 132,
   "metadata": {},
   "outputs": [
    {
     "name": "stdout",
     "output_type": "stream",
     "text": [
      "Please enter any number:4\n"
     ]
    }
   ],
   "source": [
    "# declare and initialize total occurences variable\n",
    "occurences = 0\n",
    "# declare and initialize random number list\n",
    "random_number = [1, 2, 2, 3, 3, 3, 4, 4, 4, 4, 5, 5, 5, 5, 5, 6, 6, 6, 6, 6, 6]\n",
    "# catch user input\n",
    "user_input = input(\"Please enter any number:\")\n",
    "# traverse through list\n",
    "for x in random_number:\n",
    "    if str(user_input) == str(x):\n",
    "        occurences= occurences + 1\n",
    "# print total occurences\n"
   ]
  },
  {
   "cell_type": "code",
   "execution_count": 133,
   "metadata": {},
   "outputs": [
    {
     "name": "stdout",
     "output_type": "stream",
     "text": [
      "4\n"
     ]
    }
   ],
   "source": [
    "print(occurences)"
   ]
  },
  {
   "cell_type": "markdown",
   "metadata": {},
   "source": [
    "<h3>Q no 2:   [\"www.zframez.com\", \"www.wikipedia.org\", \"www.asp.net\", \"www.abcd.in\"]\n",
    "<br/><br/><br/><br/><br/>\n",
    "Write a python program to print website suffixes (com , org , net ,in) from this list\n",
    "</h3>"
   ]
  },
  {
   "cell_type": "code",
   "execution_count": 134,
   "metadata": {},
   "outputs": [
    {
     "name": "stdout",
     "output_type": "stream",
     "text": [
      "com\n",
      "org\n",
      "net\n",
      "in\n"
     ]
    }
   ],
   "source": [
    "suffix=\"\"\n",
    "# declare and initialize website list\n",
    "websites = [\"www.zframez.com\", \"www.wikipedia.org\", \"www.asp.net\", \"www.abcd.in\"]\n",
    "# traverse website list to get suffix\n",
    "for site in websites:\n",
    "    # split site on \".\"\n",
    "    splitted_site = str(site).split(\".\")\n",
    "    # get suffix on last index\n",
    "    suffix = str(splitted_site[len(splitted_site)-1])\n",
    "    # print website suffix\n",
    "    print(suffix)"
   ]
  },
  {
   "cell_type": "markdown",
   "metadata": {},
   "source": [
    "<h3> Q no 3 : Write a program which can compute the factorial of a given numbers.</h3>\n",
    "<br/>\n",
    "<br/>\n",
    "<h4>**1 first take user input any number</h4>\n",
    "<h4>**2 calculate factorial of that input and then print the result to user</h4>"
   ]
  },
  {
   "cell_type": "code",
   "execution_count": 135,
   "metadata": {},
   "outputs": [
    {
     "name": "stdout",
     "output_type": "stream",
     "text": [
      "Please input number : 3\n",
      "6\n"
     ]
    }
   ],
   "source": [
    "factorial=1\n",
    "user_input =int(input(\"Please input number : \"))\n",
    "while user_input > 1:\n",
    "    factorial = factorial * user_input\n",
    "    user_input= user_input-1\n",
    "print(factorial)"
   ]
  },
  {
   "cell_type": "markdown",
   "metadata": {},
   "source": [
    "<h3>Q 4 (a) :  If you could invite anyone, living or deceased, to dinner, who\n",
    "would you invite? Make a list that includes at least three people you’d like to\n",
    "invite to dinner. Then use your list to print a message to each person, inviting\n",
    "them to dinner.</h3>"
   ]
  },
  {
   "cell_type": "code",
   "execution_count": 136,
   "metadata": {},
   "outputs": [
    {
     "name": "stdout",
     "output_type": "stream",
     "text": [
      "Hello Sharjeel you are invited.\n",
      "Hello Abhyaan you are invited.\n",
      "Hello Junaid you are invited.\n"
     ]
    }
   ],
   "source": [
    "# create list of guests\n",
    "guests = [\"Sharjeel\", \"Abhyaan\", \"Junaid\"]\n",
    "# print invitations\n",
    "for guest in guests:\n",
    "    print (\"Hello \" + guest + \" you are invited.\")"
   ]
  },
  {
   "cell_type": "markdown",
   "metadata": {},
   "source": [
    "<h3>Q 4 (b) : You just heard that one of your guests can’t make the\n",
    "dinner, so you need to send out a new set of invitations. You’ll have to think of\n",
    "someone else to invite.<br/></br><br/>\n",
    "•\t Start with your program from Q 4 (a). Add a print statement at the\n",
    "end of your program stating the name of the guest who can’t make it.<br/></br><br/>\n",
    "•\t Modify your list, replacing the name of the guest who can’t make it with\n",
    "the name of the new person you are inviting.<br/></br><br/>\n",
    "•\t Print a second set of invitation messages, one for each person who is still\n",
    "in your list.<br/></br><br/></h3>"
   ]
  },
  {
   "cell_type": "code",
   "execution_count": 137,
   "metadata": {},
   "outputs": [
    {
     "name": "stdout",
     "output_type": "stream",
     "text": [
      "Hello Sharjeel you are invited.\n",
      "Hello Abhyaan you are invited.\n",
      "Hello Junaid you are invited.\n",
      "Junaid informed that he is sick and unable to join the part\n",
      "Hello Sharjeel you are invited.\n",
      "Hello Abhyaan you are invited.\n",
      "Hello Sohail you are invited.\n"
     ]
    }
   ],
   "source": [
    "# create list of guests\n",
    "guests = [\"Sharjeel\", \"Abhyaan\", \"Junaid\"]\n",
    "# print invitations\n",
    "for guest in guests:\n",
    "    print (\"Hello \" + guest + \" you are invited.\")\n",
    "# inform that junaid will not join us\n",
    "print ( guests[2] + \" informed that he is sick and unable to join the part\")\n",
    "# update guests\n",
    "guests[2]=\"Sohail\"\n",
    "# print invitations\n",
    "for guest in guests:\n",
    "    print (\"Hello \" + guest + \" you are invited.\")"
   ]
  },
  {
   "cell_type": "markdown",
   "metadata": {},
   "source": [
    "<h3>Q 4 (c) : You just found a bigger dinner table, so now more space is\n",
    "available. Think of three more guests to invite to dinner.<br/></br><br/>\n",
    "•\t Start with your program from Q 4 (a) and (b) Add a print\n",
    "statement to the end of your program informing people that you found a\n",
    "bigger dinner table.<br/></br><br/>\n",
    "•\t Use insert() to add one new guest to the beginning of your list.<br/></br><br/>\n",
    "•\t Use insert() to add one new guest to the middle of your list.<br/></br><br/>\n",
    "•\t Use append() to add one new guest to the end of your list.<br/></br><br/>\n",
    "•\t Print a new set of invitation messages, one for each person in your list.<br/></br><br/></h3>"
   ]
  },
  {
   "cell_type": "code",
   "execution_count": 138,
   "metadata": {},
   "outputs": [
    {
     "name": "stdout",
     "output_type": "stream",
     "text": [
      "Hello Sharjeel you are invited.\n",
      "Hello Abhyaan you are invited.\n",
      "Hello Junaid you are invited.\n",
      "Junaid informed that he is sick and unable to join the party\n",
      "Hello Sharjeel you are invited.\n",
      "Hello Abhyaan you are invited.\n",
      "Hello Sohail you are invited.\n",
      "Hello Sharjeel we have found a bigger table. Now three more guests will be the part of our gathering\n",
      "Hello Abhyaan we have found a bigger table. Now three more guests will be the part of our gathering\n",
      "Hello Sohail we have found a bigger table. Now three more guests will be the part of our gathering\n",
      "Hello Raheel Hashmi you are invited.\n",
      "Hello Sharjeel you are invited.\n",
      "Hello Saif Shah you are invited.\n",
      "Hello Abhyaan you are invited.\n",
      "Hello Sohail you are invited.\n",
      "Hello Naseer Ahmed you are invited.\n"
     ]
    }
   ],
   "source": [
    "# create list of guests\n",
    "guests = [\"Sharjeel\", \"Abhyaan\", \"Junaid\"]\n",
    "# print invitations\n",
    "for guest in guests:\n",
    "    print (\"Hello \" + guest + \" you are invited.\")\n",
    "# inform that junaid will not join us \n",
    "print ( guests[2] + \" informed that he is sick and unable to join the party\")\n",
    "# update guests\n",
    "guests[2]=\"Sohail\"\n",
    "# print invitations\n",
    "for guest in guests:\n",
    "    print (\"Hello \" + guest + \" you are invited.\")\n",
    "# inform about bigger space\n",
    "for guest in guests:\n",
    "    print (\"Hello \" + guest + \" we have found a bigger table. Now three more guests will be the part of our gathering\")\n",
    "# add guest at first position\n",
    "guests.insert(0,\"Raheel Hashmi\")\n",
    "# add guest in middle position\n",
    "guests.insert(2,\"Saif Shah\")\n",
    "# add guest in last position\n",
    "guests.append(\"Naseer Ahmed\")\n",
    "# print updated invitations\n",
    "for guest in guests:\n",
    "    print (\"Hello \" + guest + \" you are invited.\")\n"
   ]
  },
  {
   "cell_type": "markdown",
   "metadata": {},
   "source": [
    "<h5> Q 5 : Here you have some data in variable below, your task is to make a list of specific word Surah then print the list and length of list</h5>\n"
   ]
  },
  {
   "cell_type": "code",
   "execution_count": 139,
   "metadata": {},
   "outputs": [],
   "source": [
    "data = \"Sura I Who believe in the Unseen, Sura Are steadfast in prayer, And spend Sura out of what We Have provided for them;\"\n",
    "word_Count=[]\n",
    "# split with space and add in list\n",
    "Surah_list = data.split(\" \")\n"
   ]
  },
  {
   "cell_type": "code",
   "execution_count": 140,
   "metadata": {},
   "outputs": [],
   "source": [
    "# get sura word and its count\n",
    "for word in Surah_list:\n",
    "    if word == \"Sura\":\n",
    "        word_Count.append(word)"
   ]
  },
  {
   "cell_type": "code",
   "execution_count": 141,
   "metadata": {},
   "outputs": [
    {
     "name": "stdout",
     "output_type": "stream",
     "text": [
      "Length of list is : 3\n",
      "['Sura', 'Sura', 'Sura']\n"
     ]
    }
   ],
   "source": [
    "# print length     \n",
    "print( \"Length of list is : \" + str(len(word_Count)))\n",
    "# print count\n",
    "print(word_Count)"
   ]
  },
  {
   "cell_type": "code",
   "execution_count": null,
   "metadata": {},
   "outputs": [],
   "source": []
  }
 ],
 "metadata": {
  "kernelspec": {
   "display_name": "Python 3",
   "language": "python",
   "name": "python3"
  },
  "language_info": {
   "codemirror_mode": {
    "name": "ipython",
    "version": 3
   },
   "file_extension": ".py",
   "mimetype": "text/x-python",
   "name": "python",
   "nbconvert_exporter": "python",
   "pygments_lexer": "ipython3",
   "version": "3.6.5"
  }
 },
 "nbformat": 4,
 "nbformat_minor": 2
}
